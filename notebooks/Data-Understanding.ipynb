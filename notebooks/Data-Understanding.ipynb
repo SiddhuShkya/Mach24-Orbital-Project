{
 "cells": [
  {
   "cell_type": "markdown",
   "id": "a9ddaedf",
   "metadata": {},
   "source": [
    "### Importing Necessasry Libraries"
   ]
  },
  {
   "cell_type": "code",
   "execution_count": 1,
   "id": "0bf4171d",
   "metadata": {},
   "outputs": [],
   "source": [
    "import pandas as pd  # Import the pandas library for data analysis and manipulation"
   ]
  },
  {
   "cell_type": "markdown",
   "id": "e8ab9be6",
   "metadata": {},
   "source": [
    "### Loading Our data"
   ]
  },
  {
   "cell_type": "code",
   "execution_count": 2,
   "id": "2d1aef9b",
   "metadata": {},
   "outputs": [
    {
     "data": {
      "text/html": [
       "<div>\n",
       "<style scoped>\n",
       "    .dataframe tbody tr th:only-of-type {\n",
       "        vertical-align: middle;\n",
       "    }\n",
       "\n",
       "    .dataframe tbody tr th {\n",
       "        vertical-align: top;\n",
       "    }\n",
       "\n",
       "    .dataframe thead th {\n",
       "        text-align: right;\n",
       "    }\n",
       "</style>\n",
       "<table border=\"1\" class=\"dataframe\">\n",
       "  <thead>\n",
       "    <tr style=\"text-align: right;\">\n",
       "      <th></th>\n",
       "      <th>date</th>\n",
       "      <th>NDVI_mean</th>\n",
       "      <th>NDVI_std</th>\n",
       "      <th>NDWI_mean</th>\n",
       "      <th>NDWI_std</th>\n",
       "      <th>NDBI_mean</th>\n",
       "      <th>NDBI_std</th>\n",
       "      <th>LST_mean_C</th>\n",
       "      <th>LST_std_C</th>\n",
       "      <th>count</th>\n",
       "      <th>year</th>\n",
       "      <th>scene</th>\n",
       "    </tr>\n",
       "  </thead>\n",
       "  <tbody>\n",
       "    <tr>\n",
       "      <th>0</th>\n",
       "      <td>2022-01-27</td>\n",
       "      <td>0.201626</td>\n",
       "      <td>0.077391</td>\n",
       "      <td>0.055569</td>\n",
       "      <td>0.065216</td>\n",
       "      <td>-0.055569</td>\n",
       "      <td>0.065216</td>\n",
       "      <td>12.678688</td>\n",
       "      <td>4.144818</td>\n",
       "      <td>2649889</td>\n",
       "      <td>2022</td>\n",
       "      <td>January</td>\n",
       "    </tr>\n",
       "    <tr>\n",
       "      <th>1</th>\n",
       "      <td>2022-02-12</td>\n",
       "      <td>0.183799</td>\n",
       "      <td>0.099400</td>\n",
       "      <td>0.056023</td>\n",
       "      <td>0.066603</td>\n",
       "      <td>-0.056023</td>\n",
       "      <td>0.066603</td>\n",
       "      <td>13.168473</td>\n",
       "      <td>4.372898</td>\n",
       "      <td>2649889</td>\n",
       "      <td>2022</td>\n",
       "      <td>Feburary</td>\n",
       "    </tr>\n",
       "    <tr>\n",
       "      <th>2</th>\n",
       "      <td>2022-03-08</td>\n",
       "      <td>0.214993</td>\n",
       "      <td>0.070530</td>\n",
       "      <td>0.039716</td>\n",
       "      <td>0.068622</td>\n",
       "      <td>-0.039716</td>\n",
       "      <td>0.068622</td>\n",
       "      <td>25.446893</td>\n",
       "      <td>3.893588</td>\n",
       "      <td>2649889</td>\n",
       "      <td>2022</td>\n",
       "      <td>March</td>\n",
       "    </tr>\n",
       "    <tr>\n",
       "      <th>3</th>\n",
       "      <td>2022-04-17</td>\n",
       "      <td>0.243295</td>\n",
       "      <td>0.076340</td>\n",
       "      <td>0.059367</td>\n",
       "      <td>0.078458</td>\n",
       "      <td>-0.059367</td>\n",
       "      <td>0.078458</td>\n",
       "      <td>31.615345</td>\n",
       "      <td>4.400812</td>\n",
       "      <td>2649889</td>\n",
       "      <td>2022</td>\n",
       "      <td>April</td>\n",
       "    </tr>\n",
       "    <tr>\n",
       "      <th>4</th>\n",
       "      <td>2022-05-27</td>\n",
       "      <td>0.289823</td>\n",
       "      <td>0.087954</td>\n",
       "      <td>0.107981</td>\n",
       "      <td>0.066525</td>\n",
       "      <td>-0.107981</td>\n",
       "      <td>0.066525</td>\n",
       "      <td>27.281522</td>\n",
       "      <td>4.171977</td>\n",
       "      <td>2649889</td>\n",
       "      <td>2022</td>\n",
       "      <td>May</td>\n",
       "    </tr>\n",
       "  </tbody>\n",
       "</table>\n",
       "</div>"
      ],
      "text/plain": [
       "        date  NDVI_mean  NDVI_std  NDWI_mean  NDWI_std  NDBI_mean  NDBI_std  \\\n",
       "0 2022-01-27   0.201626  0.077391   0.055569  0.065216  -0.055569  0.065216   \n",
       "1 2022-02-12   0.183799  0.099400   0.056023  0.066603  -0.056023  0.066603   \n",
       "2 2022-03-08   0.214993  0.070530   0.039716  0.068622  -0.039716  0.068622   \n",
       "3 2022-04-17   0.243295  0.076340   0.059367  0.078458  -0.059367  0.078458   \n",
       "4 2022-05-27   0.289823  0.087954   0.107981  0.066525  -0.107981  0.066525   \n",
       "\n",
       "   LST_mean_C  LST_std_C    count  year     scene  \n",
       "0   12.678688   4.144818  2649889  2022   January  \n",
       "1   13.168473   4.372898  2649889  2022  Feburary  \n",
       "2   25.446893   3.893588  2649889  2022     March  \n",
       "3   31.615345   4.400812  2649889  2022     April  \n",
       "4   27.281522   4.171977  2649889  2022       May  "
      ]
     },
     "execution_count": 2,
     "metadata": {},
     "output_type": "execute_result"
    }
   ],
   "source": [
    "DATA_PATH = (\n",
    "    \"../data/all-landsat-data.csv\"  # Define the file path to the Landsat data CSV file\n",
    ")\n",
    "df = pd.read_csv(\n",
    "    \"../data/all-landsat-data.csv\", parse_dates=[\"date\"]\n",
    ")  # Read the CSV file into a DataFrame and parse the 'date' column as datetime\n",
    "df.head()  # Display the first five rows of the DataFrame"
   ]
  },
  {
   "cell_type": "markdown",
   "id": "8a1dae3b",
   "metadata": {},
   "source": [
    "### Basic Analysis"
   ]
  },
  {
   "cell_type": "code",
   "execution_count": 3,
   "id": "c6b7ddf7",
   "metadata": {},
   "outputs": [
    {
     "name": "stdout",
     "output_type": "stream",
     "text": [
      "📊 Columns in the dataset:\n",
      "----------------------------------------\n",
      "['date', 'NDVI_mean', 'NDVI_std', 'NDWI_mean', 'NDWI_std', 'NDBI_mean', 'NDBI_std', 'LST_mean_C', 'LST_std_C', 'count', 'year', 'scene']\n"
     ]
    }
   ],
   "source": [
    "# Columns of our dataset\n",
    "print(\"📊 Columns in the dataset:\")\n",
    "print(\"-\" * 40)\n",
    "print(df.columns.to_list())  # Convert column names to a list for cleaner display"
   ]
  },
  {
   "cell_type": "code",
   "execution_count": 4,
   "id": "72c78086",
   "metadata": {},
   "outputs": [
    {
     "name": "stdout",
     "output_type": "stream",
     "text": [
      "📐 Shape of the dataset:\n",
      "Rows: 24, Columns: 12\n"
     ]
    }
   ],
   "source": [
    "# Shape of our dataset\n",
    "print(\"📐 Shape of the dataset:\")\n",
    "print(f\"Rows: {df.shape[0]}, Columns: {df.shape[1]}\")"
   ]
  },
  {
   "cell_type": "code",
   "execution_count": 5,
   "id": "2697a553",
   "metadata": {},
   "outputs": [
    {
     "name": "stdout",
     "output_type": "stream",
     "text": [
      "Total DataFrame memory usage: 0.0034046173 MB\n"
     ]
    }
   ],
   "source": [
    "# 💾 Checking the size of the dataset\n",
    "# Calculate total memory usage in bytes\n",
    "mem_bytes = df.memory_usage(deep=True).sum()\n",
    "\n",
    "# Convert bytes to megabytes (MB)\n",
    "mem_mb = mem_bytes / (1024**2)\n",
    "\n",
    "# Print the formatted memory usage\n",
    "print(f\"Total DataFrame memory usage: {mem_mb:.10f} MB\")"
   ]
  },
  {
   "cell_type": "markdown",
   "id": "ab72af31",
   "metadata": {},
   "source": [
    "### Data Understanding"
   ]
  },
  {
   "cell_type": "markdown",
   "id": "41a76c34",
   "metadata": {},
   "source": [
    "| Column       | Description                                                                                   |\n",
    "|-------------|-----------------------------------------------------------------------------------------------|\n",
    "| date        | Date of observation                                                                           |\n",
    "| NDVI_mean   | Mean Normalized Difference Vegetation Index → measures vegetation health (0–1). Higher = greener/healthier vegetation |\n",
    "| NDVI_std    | Standard deviation of NDVI → variability in vegetation health                                 |\n",
    "| NDWI_mean   | Mean Normalized Difference Water Index → measures water presence. Higher = more water content |\n",
    "| NDWI_std    | Standard deviation of NDWI                                                                    |\n",
    "| NDBI_mean   | Mean Normalized Difference Built-up Index → measures urban areas. Higher = more built-up/urbanized |\n",
    "| NDBI_std    | Standard deviation of NDBI                                                                    |\n",
    "| LST_mean_C  | Mean Land Surface Temperature in Celsius                                                     |\n",
    "| LST_std_C   | Standard deviation of temperature                                                            |\n",
    "| count       | Number of pixels used in the computation                                                     |\n",
    "| year        | Year of observation                                                                          |\n",
    "| scene       | Month or descriptive name of the scene                                                       |"
   ]
  },
  {
   "cell_type": "markdown",
   "id": "e351623e",
   "metadata": {},
   "source": [
    "### Statistical summary of numeric columns"
   ]
  },
  {
   "cell_type": "code",
   "execution_count": 6,
   "id": "e66cd427",
   "metadata": {},
   "outputs": [
    {
     "name": "stdout",
     "output_type": "stream",
     "text": [
      "Descriptive statistics of the dataset:\n",
      "--------------------------------------------------\n",
      "                      date  NDVI_mean   NDVI_std  NDWI_mean   NDWI_std  \\\n",
      "count                   24  24.000000  24.000000  24.000000  24.000000   \n",
      "mean   2023-06-06 08:00:00   0.229643   0.084712   0.067998   0.070091   \n",
      "min    2022-01-27 00:00:00   0.179490   0.063529   0.028477   0.062376   \n",
      "25%    2022-11-05 00:00:00   0.204214   0.076368   0.045106   0.066202   \n",
      "50%    2023-04-20 00:00:00   0.223381   0.086268   0.058228   0.069401   \n",
      "75%    2024-02-18 00:00:00   0.246555   0.091078   0.088482   0.072839   \n",
      "max    2024-12-18 00:00:00   0.303173   0.109813   0.128518   0.082866   \n",
      "std                    NaN   0.035778   0.011239   0.030161   0.005352   \n",
      "\n",
      "       NDBI_mean   NDBI_std  LST_mean_C  LST_std_C      count         year  \n",
      "count  24.000000  24.000000   24.000000  24.000000       24.0    24.000000  \n",
      "mean   -0.067998   0.070091   22.345648   4.740335  2649889.0  2022.958333  \n",
      "min    -0.128518   0.062376   12.678688   3.314992  2649889.0  2022.000000  \n",
      "25%    -0.088482   0.066202   17.168210   3.699574  2649889.0  2022.000000  \n",
      "50%    -0.058228   0.069401   21.652280   4.158398  2649889.0  2023.000000  \n",
      "75%    -0.045106   0.072839   26.954169   4.633437  2649889.0  2024.000000  \n",
      "max    -0.028477   0.082866   35.684223  12.096730  2649889.0  2024.000000  \n",
      "std     0.030161   0.005352    6.289900   1.978195        0.0     0.806450  \n"
     ]
    }
   ],
   "source": [
    "# 📈 Statistical summary of numerical columns\n",
    "print(\"Descriptive statistics of the dataset:\")\n",
    "print(\"-\" * 50)\n",
    "print(df.describe())"
   ]
  },
  {
   "cell_type": "code",
   "execution_count": 7,
   "id": "e95abecf",
   "metadata": {},
   "outputs": [
    {
     "name": "stdout",
     "output_type": "stream",
     "text": [
      "Frequency of each unique value in the 'scene' column:\n",
      "--------------------------------------------------\n",
      "scene\n",
      "Feburary    3\n",
      "October     3\n",
      "March       3\n",
      "April       3\n",
      "May         3\n",
      "December    3\n",
      "November    3\n",
      "January     2\n",
      "June        1\n",
      "Name: count, dtype: int64\n"
     ]
    }
   ],
   "source": [
    "# 🔢 Check value counts of the 'scene' column\n",
    "print(\"Frequency of each unique value in the 'scene' column:\")\n",
    "print(\"-\" * 50)\n",
    "scene_counts = df[\"scene\"].value_counts()\n",
    "print(scene_counts)"
   ]
  },
  {
   "cell_type": "code",
   "execution_count": 8,
   "id": "a04d3e8e",
   "metadata": {},
   "outputs": [
    {
     "name": "stdout",
     "output_type": "stream",
     "text": [
      "Number of records per year:\n",
      "----------------------------------------\n",
      "year\n",
      "2023    9\n",
      "2022    8\n",
      "2024    7\n",
      "Name: count, dtype: int64\n"
     ]
    }
   ],
   "source": [
    "# 📅 Check the distribution of years in the dataset\n",
    "print(\"Number of records per year:\")\n",
    "print(\"-\" * 40)\n",
    "year_counts = df[\"year\"].value_counts()\n",
    "print(year_counts)"
   ]
  }
 ],
 "metadata": {
  "kernelspec": {
   "display_name": "venv",
   "language": "python",
   "name": "python3"
  },
  "language_info": {
   "codemirror_mode": {
    "name": "ipython",
    "version": 3
   },
   "file_extension": ".py",
   "mimetype": "text/x-python",
   "name": "python",
   "nbconvert_exporter": "python",
   "pygments_lexer": "ipython3",
   "version": "3.12.3"
  }
 },
 "nbformat": 4,
 "nbformat_minor": 5
}
